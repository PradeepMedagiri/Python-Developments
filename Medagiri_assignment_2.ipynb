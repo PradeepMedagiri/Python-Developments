{
 "cells": [
  {
   "cell_type": "markdown",
   "metadata": {},
   "source": [
    "# Medagiri.Pradeep.Homework 2\n",
    "\n"
   ]
  },
  {
   "cell_type": "markdown",
   "metadata": {},
   "source": [
    "# Program 1\n",
    "__ALGORITHM:__\n",
    "- Step 1: __Start__\n",
    "- Step 2: Imports library,Reads variable x and enters function with range 100\n",
    "- Step 3: Enters loop:\n",
    "            i. if randint is equals to 1 to 7 it stores values in different variables and returns to function.\n",
    "- Step 4: Enter's statement 1 and prints \"Frequencies:\"\n",
    "- Step 5: Following statements prints Number of 1s,2s,3s,4s,5s,6s,7s.\n",
    "- Step 6: Prints frequencies for the above numbers using (x[0])* '*'\n",
    "- Step 7: __Stop__"
   ]
  },
  {
   "cell_type": "markdown",
   "metadata": {},
   "source": [
    "__Instructions for user:__\n",
    "- Input of 100 is given to roll 7 faced die which shows number of 1s,2s,3s,4s,5s,6s,7s with frequencies.\n",
    "- Values must be passed and shows error if unexpected indentations or spaces are given.\n",
    "- Inorder to view with different outputs, please run the program again after every successful execution.\n",
    "- __Expected results__ : \n",
    "            Frequencies:\n",
    "            Number of 1s: 20\n",
    "            Number of 2s: 13\n",
    "            Number of 3s: 9\n",
    "            Number of 4s: 14\n",
    "            Number of 5s: 17\n",
    "            Number of 6s: 17\n",
    "            Number of 7s: 10\n",
    "            1       ********************\n",
    "            2       *************\n",
    "            3       *********\n",
    "            4       **************\n",
    "            5       *****************\n",
    "            6       *****************\n",
    "            7       **********"
   ]
  },
  {
   "cell_type": "code",
   "execution_count": 6,
   "metadata": {},
   "outputs": [
    {
     "name": "stdout",
     "output_type": "stream",
     "text": [
      "Frequencies:\n",
      "Number of 1s: 14\n",
      "Number of 2s: 12\n",
      "Number of 3s: 18\n",
      "Number of 4s: 14\n",
      "Number of 5s: 12\n",
      "Number of 6s: 14\n",
      "Number of 7s: 16\n",
      "1       **************\n",
      "2       ************\n",
      "3       ******************\n",
      "4       **************\n",
      "5       ************\n",
      "6       **************\n",
      "7       ****************\n"
     ]
    }
   ],
   "source": [
    "import random #imported lib\n",
    "def function(number): #function \n",
    "    one = 0      #variables to store value\n",
    "    two = 0\n",
    "    three = 0\n",
    "    four = 0    #variables to store value\n",
    "    five = 0\n",
    "    six = 0\n",
    "    seven= 0\n",
    "    for i in range(0, number):  \n",
    "        roll=int(random.randint(1,7)) #to generate random numbers\n",
    "        if roll == 1:    #conditions to compare values\n",
    "            one = one+1\n",
    "        elif roll == 2:\n",
    "            two = two+1\n",
    "        elif roll == 3:\n",
    "            three = three+1\n",
    "        elif roll == 4:\n",
    "            four = four+1\n",
    "        elif roll == 5:   #conditions to compare values\n",
    "            five = five+1\n",
    "        elif roll == 6:\n",
    "            six = six+1\n",
    "        elif roll == 7:\n",
    "            seven = seven+1\n",
    "    return (one,two,three,four,five,six,seven) #will return values to function\n",
    "x=function(100) #calling function\n",
    "print(\"Frequencies:\")   #statement's to print as outputs\n",
    "print(\"Number of 1s:\",x[0])\n",
    "print(\"Number of 2s:\",x[1])\n",
    "print(\"Number of 3s:\",x[2])\n",
    "print(\"Number of 4s:\",x[3])\n",
    "print(\"Number of 5s:\",x[4])\n",
    "print(\"Number of 6s:\",x[5])\n",
    "print(\"Number of 7s:\",x[6])\n",
    "print('1      ', (x[0])* '*') #statement's to print as outputs\n",
    "print('2      ', (x[1])* '*')\n",
    "print('3      ', (x[2])* '*')\n",
    "print('4      ', (x[3])* '*')\n",
    "print('5      ', (x[4])* '*')\n",
    "print('6      ', (x[5])* '*')\n",
    "print('7      ', (x[6])* '*')"
   ]
  },
  {
   "cell_type": "markdown",
   "metadata": {},
   "source": [
    "# Program 2\n",
    "__ALGORITHM:__\n",
    "- Step 1: __Start__\n",
    "- Step 2: Enters try loop and reads value for number by checking initial value.\n",
    "- Step 3: Enters loop:\n",
    "            i. if number > 100,  prints \"Number must be lower than or equal to 100\"\n",
    "            ii. if number < 1, prints \"Number must be greater than or equal to 1\"\n",
    "- Step 4: Guesses number using random and enters loop if guess != number:\n",
    "            i. if guess > number, it addes up and also increment in x\n",
    "            ii. else case, it addes up and also increment in y                 \n",
    "- Step 5: prints guessed number with number of iteration it took with math (x+y) to guess.\n",
    "- Step 6: In any other case it prompts with error statement.\n",
    "- Step 7: __Stop__"
   ]
  },
  {
   "cell_type": "markdown",
   "metadata": {},
   "source": [
    "__Instructions for user:__\n",
    "- Enter number to be guessed, algoritham will guess the number and prints number of iterations it took to guess.\n",
    "- Values must be given or it displays with error statement\n",
    "- Prompt to re-enter if negative numbers or numbers greater than 100 are given (zero included)\n",
    "- Inorder to execute with different inputs, please run the program again after every successful execution.\n",
    "- __Expected results__ : \n",
    "            Enter number to be guessed: 89\n",
    "            You entered 89 , and it took the program 13 iterations to guess"
   ]
  },
  {
   "cell_type": "code",
   "execution_count": 2,
   "metadata": {},
   "outputs": [
    {
     "name": "stdout",
     "output_type": "stream",
     "text": [
      "Enter number to be guessed: 78\n",
      "You entered 78 , and it took the program 60 iterations to guess\n"
     ]
    }
   ],
   "source": [
    "from random import randint \n",
    "number = 0 #initilizing\n",
    "try:\n",
    "    while number < 1 or number >100:\n",
    "        number = int(input(\"Enter number to be guessed: \")) #input for number\n",
    "        if number > 100: #condition to compare values\n",
    "            print (\"Number must be lower than or equal to 100\") #error statement\n",
    "        if number < 1: #condition to compare values\n",
    "            print (\"Number must be greater than or equal to 1\") #error statement\n",
    "    guess = randint(1, 100) #to generate random number\n",
    "    x=0\n",
    "    y=0\n",
    "    while guess != number: #checks for condition\n",
    "        if guess > number: #condition to compare values\n",
    "            guess -= 1\n",
    "            x=x+1\n",
    "            guess = randint(1, guess)\n",
    "            #print(x) for cross verification\n",
    "        else:  #condition to compare values\n",
    "            guess += 1\n",
    "            y+=1\n",
    "            #print(y) r cross verification\n",
    "            guess = randint(guess, 100)\n",
    "        #print (\"The computer takes a guess...\", guess) r cross verification\n",
    "    print(\"You entered\",number,',',\"and it took the program\",x+y, \"iterations to guess\") #statement to print as output\n",
    "except ValueError: #catching error\n",
    "    print(\"Please enter number between 1 and 100\") #error statement"
   ]
  },
  {
   "cell_type": "markdown",
   "metadata": {},
   "source": [
    "# Program 3\n",
    "__ALGORITHM:__\n",
    "- Step 1: __Start__\n",
    "- Step 2: Reads string and stores in x.\n",
    "- Step 3: if len(x)>0 it enters loop else it displays 'Error: Enter an input'.\n",
    "- Step 4: Enters try loop and if condition is true it prompts with error.\n",
    "- Step 5: In other case it enters except and converts string to lower case and asks for other input which stores in letter and as same it is converted to lower case.\n",
    "- Step 6: Enters if statement to check for conditions, if condition is true it calls the function and if returned value is true it calls other function in preceding cell where enters further loop to count number of times entered letter as first letter repeated.\n",
    "- Step 7: In any other case it prompts with error \"Error: Enter only a single alphabet\".\n",
    "- Step 8: __Stop__"
   ]
  },
  {
   "cell_type": "markdown",
   "metadata": {},
   "source": [
    "__Instructions for user:__\n",
    "- Enter line of text and a letter to check how many times letter as first character of a word repeated in given text.\n",
    "- Program below is not case sensitive.\n",
    "- Make sure to run the preceding cell first which has two functions and then to input cell for no errors.\n",
    "- Prompts error if unexpected indentations or spaces are given.\n",
    "- Inorder to execute with different inputs, please run the program again after every successful execution.\n",
    "- __Expected results__ : \n",
    "              Enter your line of text: Inorder to execute with different inputs, please run the program again\n",
    "              Enter your letter to use: p\n",
    "              Your letter p occurs as the first letter: 2 times\n",
    "                "
   ]
  },
  {
   "cell_type": "code",
   "execution_count": 7,
   "metadata": {},
   "outputs": [],
   "source": [
    "def function(x,a): #function\n",
    "    count = 0  \n",
    "    for word in x.split(): #to split words\n",
    "        if word.startswith(a): #checking for condition\n",
    "            count = count+1 #increment\n",
    "    print('Your letter',a,'occurs as the first letter:',count,'times') #statement to print as output\n",
    "def z(letter):  #function\n",
    "    x =[ch for ch in letter if ord(ch) in range(ord('a'), ord('z')+1)] # values for x \n",
    "    for alphabet in x:\n",
    "        return  (alphabet == letter)"
   ]
  },
  {
   "cell_type": "code",
   "execution_count": 8,
   "metadata": {},
   "outputs": [
    {
     "name": "stdout",
     "output_type": "stream",
     "text": [
      "Enter your line of text: Inorder to execute with different inputs, please run the program aga\n",
      "Enter your letter to use: p\n",
      "Your letter p occurs as the first letter: 2 times\n"
     ]
    }
   ],
   "source": [
    "x = input('Enter your line of text: ') #input for x\n",
    "if (len(x) > 0):\n",
    "    try:\n",
    "        if((float(x)) or int(x) or (int(x)==0)): #checks for condition\n",
    "            print('enter a valid input') #error statement\n",
    "    except:\n",
    "        x = x.lower() #converts to lower case\n",
    "        letter = input('Enter your letter to use: ') #input for letter\n",
    "        letter = letter.lower()#converts to lower case\n",
    "        if (len(letter) == 1):\n",
    "            if(z(letter)==1):\n",
    "                function(x,letter) #calls function\n",
    "            else:\n",
    "                print(\"Enter only a single alphabet\") #error statement\n",
    "        else:\n",
    "            print('Enter only a single alphabet') #error statement\n",
    "else:\n",
    "    print('Enter an input') #error statement"
   ]
  },
  {
   "cell_type": "markdown",
   "metadata": {},
   "source": [
    "# Program 4\n",
    "__ALGORITHM:__\n",
    "- Step 1: __Start__\n",
    "- Step 2: Reads String for x and calls function as defined to check the condition.\n",
    "- Step 3: Function converts to lower case and returns either false or true after checking condition with alphabet\n",
    "- Step 4: if condition is true it prints \"The given string is a pangram\"\n",
    "- Step 5: Else it enters to other loop to check for missing letters which stores in empty[].\n",
    "- Step 6: Uses .join() and prints below statement with missing letters.\n",
    "- Step 7: __Stop__"
   ]
  },
  {
   "cell_type": "markdown",
   "metadata": {},
   "source": [
    "__Instructions for user:__\n",
    "- Enter a string to check either input is pangram or not.\n",
    "- Program below is not case sensitive.\n",
    "- Algoritham Expects to have all alphabets atleast once inorder to display as pangram\n",
    "- Inorder to execute with different inputs, please run the program again after every successful execution.\n",
    "- __Expected results__ : \n",
    "            Enter a string: The quick brown fox jumps over the lazy cat\n",
    "            The given string is not a pangram, you are missing the letters: d,g\n",
    "                "
   ]
  },
  {
   "cell_type": "code",
   "execution_count": 9,
   "metadata": {},
   "outputs": [
    {
     "name": "stdout",
     "output_type": "stream",
     "text": [
      "Enter a string: pefhusdb iasedbfisjc\n",
      "The given string is not a pangram, you are missing the letters: g,k,l,m,n,o,q,r,t,v,w,x,y,z\n"
     ]
    }
   ],
   "source": [
    "def pangram(x):  #function\n",
    "    global alphabet\n",
    "    alphabet = 'abcdefghijklmnopqrstuvwxyz'\n",
    "    for s in alphabet:\n",
    "        if s not in x.lower(): #converts to lower case\n",
    "            return False  #return value\n",
    "    return True   #return value\n",
    "x =input(\"Enter a string: \")  #reads value for x\n",
    "empty=[] #initilizing value to empty\n",
    "if(pangram(x)==True): #checks for condition\n",
    "    print(\"The given string is a pangram\")  #statement to print as output\n",
    "else:\n",
    "    for p in alphabet:\n",
    "        if p not in x.lower(): #checks for condition\n",
    "            empty.append(p) #appends p\n",
    "    print(\"The given string is not a pangram, you are missing the letters:\",\",\".join(empty)) #statement to print as output\n",
    "        "
   ]
  },
  {
   "cell_type": "markdown",
   "metadata": {},
   "source": [
    "# Program 5\n",
    "__ALGORITHM:__\n",
    "- Step 1: __Start__\n",
    "- Step 2: Reads input file name and stores in x\n",
    "- Step 3: Initilize values for count1, count2, count3\n",
    "- Step 4: Enters loop and checks then adds to count\n",
    "- Step 5: Enters loop for words using split() and adds to count \n",
    "- Step 6: Average length of word is calculated 'count3/count2' and prints the statements with values\n",
    "- Step 7: In any other case prompts with error statement\n",
    "- Step 8: __Stop__"
   ]
  },
  {
   "cell_type": "markdown",
   "metadata": {},
   "source": [
    "__Instructions for user:__\n",
    "- Enter a valid file name, algoritham will check and displays number of lines excluding empty line, words, characters without white spaces and average length of word as output.\n",
    "- Program counts characters whithout white spaces and next line characters\n",
    "- Program below is not case sensitive.\n",
    "- Prompts error if file not existed or path of file is incorrect\n",
    "- And also prompts error if unexpected indentations or spaces are given.\n",
    "- Inorder to execute with different files, please run the program again after every successful execution.\n",
    "- Inorder to support with respective interepreter, 'r' is replaced with [encoding=\"ISO-8859-1\"].\n",
    "- __Expected results__ : \n",
    "                What is the filename: text.txt\n",
    "                Number of lines: 5\n",
    "                Number of words: 67\n",
    "                Number of characters: 352\n",
    "                Average length of a word: 5.253731343283582\n",
    "                \n"
   ]
  },
  {
   "cell_type": "code",
   "execution_count": 10,
   "metadata": {},
   "outputs": [
    {
     "name": "stdout",
     "output_type": "stream",
     "text": [
      "What is the filename: file.txt\n",
      "Please Enter valid file name\n"
     ]
    }
   ],
   "source": [
    "try:\n",
    "    x = input('What is the filename: ') #reads file name for x\n",
    "    y = open(x,encoding=\"ISO-8859-1\") #encoding is used to run without error - UniCodeError\n",
    "    count1 = 0 #initilizing for lines\n",
    "    count2 = 0 #initilizing for words\n",
    "    count3 = 0 #initilizing for characters\n",
    "    for line in y:\n",
    "        count1 = count1 + 1\n",
    "        for word in line.split(): #to split word\n",
    "            count2 = count2 + 1\n",
    "            count3 = count3 + len(word)\n",
    "    avg1 = count3/count2  # Calculate Average length of word = Total length/ Number of words        \n",
    "    print('Number of lines:', count1)  #statement to print as output\n",
    "    print('Number of words:', count2)  #statement to print as output\n",
    "    print('Number of characters:', count3)  #statement to print as output\n",
    "    print('Average length of a word:', avg1)  #statement to print as output\n",
    "except:\n",
    "    print('Please Enter valid file name') #error statement"
   ]
  },
  {
   "cell_type": "code",
   "execution_count": null,
   "metadata": {},
   "outputs": [],
   "source": []
  }
 ],
 "metadata": {
  "kernelspec": {
   "display_name": "Python 3",
   "language": "python",
   "name": "python3"
  },
  "language_info": {
   "codemirror_mode": {
    "name": "ipython",
    "version": 3
   },
   "file_extension": ".py",
   "mimetype": "text/x-python",
   "name": "python",
   "nbconvert_exporter": "python",
   "pygments_lexer": "ipython3",
   "version": "3.7.1"
  }
 },
 "nbformat": 4,
 "nbformat_minor": 2
}
